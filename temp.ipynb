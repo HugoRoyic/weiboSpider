{
 "cells": [
  {
   "cell_type": "code",
   "execution_count": 18,
   "metadata": {},
   "outputs": [],
   "source": [
    "from selenium import webdriver\n",
    "from selenium.webdriver.common.keys import Keys\n",
    "from selenium.webdriver.common.by import By\n",
    "from selenium.webdriver.support.ui import WebDriverWait\n",
    "from selenium.webdriver.support import expected_conditions as EC\n",
    "\n",
    "\n",
    "chrome_args = [\"--no-sandbox\",\n",
    "               \"--disable-gpu\",\n",
    "               \"--user-data-dir=F:/ChromeProfiles/MyProfile\",\n",
    "               # \"--headless\",\n",
    "               ]\n",
    "chrome_options = webdriver.ChromeOptions()\n",
    "\n",
    "for arg in chrome_args:\n",
    "    chrome_options.add_argument(arg)\n",
    "\n",
    "driver = webdriver.Chrome(options=chrome_options)\n",
    "\n"
   ]
  },
  {
   "cell_type": "code",
   "execution_count": 16,
   "metadata": {},
   "outputs": [],
   "source": [
    "cookies = {   # 冯辰\n",
    "            \"SUB\": \"_2A25PEzBQDeRhGeBN7FcX8C3Kyj-IHXVs_FAYrDV6PUJbkdCOLUP8kW1NRDkkV5oMkNALzNkuJEk4ByIpRdC3XX67\",\n",
    "            \"_T_WM\": \"98126289984\",\n",
    "            \"MLOGIN\": \"1\",\n",
    "            \"M_WEIBOCN_PARAMS\": \"lfid%3D102803%26luicode%3D20000174\"}\n",
    "\n",
    "for c in cookies:\n",
    "    driver.add_cookie({\"name\": c, \"value\": cookies[c]})\n",
    "driver.get(\"https://weibo.cn\")\n"
   ]
  },
  {
   "cell_type": "code",
   "execution_count": null,
   "metadata": {},
   "outputs": [],
   "source": []
  }
 ],
 "metadata": {
  "interpreter": {
   "hash": "eeea886940d29ceb61fdf7ee35ebc554da37198d2fa9f66f20dec7a844286168"
  },
  "kernelspec": {
   "display_name": "Python 3.8.9 64-bit",
   "language": "python",
   "name": "python3"
  },
  "language_info": {
   "codemirror_mode": {
    "name": "ipython",
    "version": 3
   },
   "file_extension": ".py",
   "mimetype": "text/x-python",
   "name": "python",
   "nbconvert_exporter": "python",
   "pygments_lexer": "ipython3",
   "version": "3.8.9"
  },
  "orig_nbformat": 4
 },
 "nbformat": 4,
 "nbformat_minor": 2
}
